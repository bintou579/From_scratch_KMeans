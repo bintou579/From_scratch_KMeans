{
 "cells": [
  {
   "cell_type": "code",
   "execution_count": 22,
   "metadata": {},
   "outputs": [],
   "source": [
    "import pandas as pd\n",
    "import numpy as np\n",
    "from sklearn.preprocessing import StandardScaler\n",
    "import matplotlib.pyplot as plt"
   ]
  },
  {
   "cell_type": "code",
   "execution_count": 23,
   "metadata": {},
   "outputs": [],
   "source": [
    "data = pd.read_csv(\"dataset_1.csv\")"
   ]
  },
  {
   "cell_type": "code",
   "execution_count": 24,
   "metadata": {},
   "outputs": [
    {
     "data": {
      "text/html": [
       "<div>\n",
       "<style scoped>\n",
       "    .dataframe tbody tr th:only-of-type {\n",
       "        vertical-align: middle;\n",
       "    }\n",
       "\n",
       "    .dataframe tbody tr th {\n",
       "        vertical-align: top;\n",
       "    }\n",
       "\n",
       "    .dataframe thead th {\n",
       "        text-align: right;\n",
       "    }\n",
       "</style>\n",
       "<table border=\"1\" class=\"dataframe\">\n",
       "  <thead>\n",
       "    <tr style=\"text-align: right;\">\n",
       "      <th></th>\n",
       "      <th>Unnamed: 0</th>\n",
       "      <th>normalized_age</th>\n",
       "      <th>normalized_salary</th>\n",
       "    </tr>\n",
       "  </thead>\n",
       "  <tbody>\n",
       "    <tr>\n",
       "      <th>0</th>\n",
       "      <td>0</td>\n",
       "      <td>0.680267</td>\n",
       "      <td>-0.016342</td>\n",
       "    </tr>\n",
       "    <tr>\n",
       "      <th>1</th>\n",
       "      <td>1</td>\n",
       "      <td>3.809518</td>\n",
       "      <td>0.798483</td>\n",
       "    </tr>\n",
       "    <tr>\n",
       "      <th>2</th>\n",
       "      <td>2</td>\n",
       "      <td>-1.661372</td>\n",
       "      <td>-0.577667</td>\n",
       "    </tr>\n",
       "    <tr>\n",
       "      <th>3</th>\n",
       "      <td>3</td>\n",
       "      <td>-0.257307</td>\n",
       "      <td>-0.155552</td>\n",
       "    </tr>\n",
       "    <tr>\n",
       "      <th>4</th>\n",
       "      <td>4</td>\n",
       "      <td>0.698017</td>\n",
       "      <td>0.174561</td>\n",
       "    </tr>\n",
       "    <tr>\n",
       "      <th>...</th>\n",
       "      <td>...</td>\n",
       "      <td>...</td>\n",
       "      <td>...</td>\n",
       "    </tr>\n",
       "    <tr>\n",
       "      <th>995</th>\n",
       "      <td>995</td>\n",
       "      <td>-5.060165</td>\n",
       "      <td>2.482045</td>\n",
       "    </tr>\n",
       "    <tr>\n",
       "      <th>996</th>\n",
       "      <td>996</td>\n",
       "      <td>-5.079404</td>\n",
       "      <td>2.773580</td>\n",
       "    </tr>\n",
       "    <tr>\n",
       "      <th>997</th>\n",
       "      <td>997</td>\n",
       "      <td>-5.861520</td>\n",
       "      <td>3.068426</td>\n",
       "    </tr>\n",
       "    <tr>\n",
       "      <th>998</th>\n",
       "      <td>998</td>\n",
       "      <td>-5.018934</td>\n",
       "      <td>3.110904</td>\n",
       "    </tr>\n",
       "    <tr>\n",
       "      <th>999</th>\n",
       "      <td>999</td>\n",
       "      <td>-6.799331</td>\n",
       "      <td>2.082321</td>\n",
       "    </tr>\n",
       "  </tbody>\n",
       "</table>\n",
       "<p>1000 rows × 3 columns</p>\n",
       "</div>"
      ],
      "text/plain": [
       "     Unnamed: 0  normalized_age  normalized_salary\n",
       "0             0        0.680267          -0.016342\n",
       "1             1        3.809518           0.798483\n",
       "2             2       -1.661372          -0.577667\n",
       "3             3       -0.257307          -0.155552\n",
       "4             4        0.698017           0.174561\n",
       "..          ...             ...                ...\n",
       "995         995       -5.060165           2.482045\n",
       "996         996       -5.079404           2.773580\n",
       "997         997       -5.861520           3.068426\n",
       "998         998       -5.018934           3.110904\n",
       "999         999       -6.799331           2.082321\n",
       "\n",
       "[1000 rows x 3 columns]"
      ]
     },
     "execution_count": 24,
     "metadata": {},
     "output_type": "execute_result"
    }
   ],
   "source": [
    "data"
   ]
  },
  {
   "cell_type": "code",
   "execution_count": 25,
   "metadata": {},
   "outputs": [],
   "source": [
    "data = data.drop([\"Unnamed: 0\"], axis=1)\n",
    "sc = StandardScaler()\n",
    "X_sc = sc.fit_transform(data)"
   ]
  },
  {
   "cell_type": "code",
   "execution_count": 26,
   "metadata": {},
   "outputs": [],
   "source": [
    "m = X_sc.shape[0]\n",
    "n = X_sc.shape[1]"
   ]
  },
  {
   "cell_type": "markdown",
   "metadata": {},
   "source": [
    "Etape 1 : on place 2 centroids au hasard dans le dataset"
   ]
  },
  {
   "cell_type": "code",
   "execution_count": 27,
   "metadata": {},
   "outputs": [],
   "source": [
    "Centroids=np.array([]).reshape(n,0) \n",
    "# les centroîdes sont une matrice  de n lignes. "
   ]
  },
  {
   "cell_type": "code",
   "execution_count": 28,
   "metadata": {},
   "outputs": [
    {
     "data": {
      "text/plain": [
       "(2, 0)"
      ]
     },
     "execution_count": 28,
     "metadata": {},
     "output_type": "execute_result"
    }
   ],
   "source": [
    "Centroids.shape"
   ]
  },
  {
   "cell_type": "code",
   "execution_count": 29,
   "metadata": {},
   "outputs": [],
   "source": [
    "# on place un centroîde dans chaque colonne\n",
    "import random\n",
    "K=2\n",
    "for i in range(K):\n",
    "    rand=random.randint(0,m-1)\n",
    "    Centroids=np.c_[Centroids, X_sc[rand]]"
   ]
  },
  {
   "cell_type": "code",
   "execution_count": 31,
   "metadata": {},
   "outputs": [
    {
     "data": {
      "text/plain": [
       "(2, 2)"
      ]
     },
     "execution_count": 31,
     "metadata": {},
     "output_type": "execute_result"
    }
   ],
   "source": [
    "Centroids.shape"
   ]
  },
  {
   "cell_type": "markdown",
   "metadata": {},
   "source": [
    "Etape 2 : la distance eucliedienne \n",
    "Puis chaque point du dataset est affecté au cluster du centroide le plus proche, ie la position des centroîdes qui minimise la distance entre les points(x) et le centre(moyenne). cela equivaut à minimiser la variances des clusters."
   ]
  },
  {
   "cell_type": "code",
   "execution_count": 32,
   "metadata": {},
   "outputs": [],
   "source": [
    "Output={}\n",
    "\n",
    "EuclidianDistance=np.array([]).reshape(m,0)\n",
    "for k in range(K):\n",
    "    tempDist=np.sum((X_sc-Centroids[:,k])**2,axis=1)\n",
    "    EuclidianDistance=np.c_[EuclidianDistance,tempDist]\n",
    "C=np.argmin(EuclidianDistance,axis=1)+1"
   ]
  },
  {
   "cell_type": "markdown",
   "metadata": {},
   "source": [
    "calculer la moyenne de tous les clusters individuels et déplacer le centre de gravité vers la moyenne calculée."
   ]
  },
  {
   "cell_type": "code",
   "execution_count": 33,
   "metadata": {},
   "outputs": [],
   "source": [
    "Y={}\n",
    "for k in range(K):\n",
    "    Y[k+1]=np.array([]).reshape(2,0)\n",
    "for i in range(m):\n",
    "    Y[C[i]]=np.c_[Y[C[i]],X_sc[i]]\n",
    "     \n",
    "for k in range(K):\n",
    "    Y[k+1]=Y[k+1].T\n",
    "    \n",
    "for k in range(K):\n",
    "     Centroids[:,k]=np.mean(Y[k+1],axis=0)"
   ]
  },
  {
   "cell_type": "markdown",
   "metadata": {},
   "source": [
    "Répétons l'etape jusuqu'à ce que la convergence soit atteinte"
   ]
  },
  {
   "cell_type": "code",
   "execution_count": 36,
   "metadata": {},
   "outputs": [],
   "source": [
    "n_iter=100\n",
    "for i in range(n_iter):\n",
    "    \n",
    "    EuclidianDistance=np.array([]).reshape(m,0)\n",
    "    for k in range(K):\n",
    "        tempDist=np.sum((X_sc-Centroids[:,k])**2,axis=1)\n",
    "        EuclidianDistance=np.c_[EuclidianDistance,tempDist]\n",
    "    C=np.argmin(EuclidianDistance,axis=1)+1\n",
    "     #step 2.b\n",
    "    Y={}\n",
    "    for k in range(K):\n",
    "        Y[k+1]=np.array([]).reshape(2,0)\n",
    "    for i in range(m):\n",
    "          Y[C[i]]=np.c_[Y[C[i]],X_sc[i]]\n",
    "     \n",
    "    for k in range(K):\n",
    "        Y[k+1]=Y[k+1].T\n",
    "    \n",
    "    for k in range(K):\n",
    "        Centroids[:,k]=np.mean(Y[k+1],axis=0)\n",
    "        Output=Y"
   ]
  },
  {
   "cell_type": "code",
   "execution_count": 37,
   "metadata": {},
   "outputs": [
    {
     "data": {
      "image/png": "[encoded data removed]",
      "text/plain": [
       "<Figure size 432x288 with 1 Axes>"
      ]
     },
     "metadata": {
      "needs_background": "light"
     },
     "output_type": "display_data"
    }
   ],
   "source": [
    "plt.scatter(X_sc[:,0],X_sc[:,1],c='black',label='unclustered data')\n",
    "plt.xlabel('Age')\n",
    "plt.ylabel('Salry')\n",
    "plt.legend()\n",
    "plt.title('Plot of data points')\n",
    "plt.show()"
   ]
  },
  {
   "cell_type": "code",
   "execution_count": 38,
   "metadata": {},
   "outputs": [
    {
     "data": {
      "image/png": "[encoded data removed]",
      "text/plain": [
       "<Figure size 432x288 with 1 Axes>"
      ]
     },
     "metadata": {
      "needs_background": "light"
     },
     "output_type": "display_data"
    }
   ],
   "source": [
    "color=['red','blue']\n",
    "labels=['cluster1','cluster2']\n",
    "\n",
    "for k in range(K):\n",
    "    plt.scatter(Output[k+1][:,0],Output[k+1][:,1],c=color[k],label=labels[k])\n",
    "plt.scatter(Centroids[0], Centroids[1],s=300,c='yellow')\n",
    "plt.xlabel('Age')\n",
    "plt.ylabel('Salary')\n",
    "plt.legend()\n",
    "plt.show()"
   ]
  },
  {
   "cell_type": "code",
   "execution_count": null,
   "metadata": {},
   "outputs": [],
   "source": []
  }
 ],
 "metadata": {
  "hide_input": false,
  "kernelspec": {
   "display_name": "Python 3",
   "language": "python",
   "name": "python3"
  },
  "language_info": {
   "codemirror_mode": {
    "name": "ipython",
    "version": 3
   },
   "file_extension": ".py",
   "mimetype": "text/x-python",
   "name": "python",
   "nbconvert_exporter": "python",
   "pygments_lexer": "ipython3",
   "version": "3.7.7"
  },
  "toc": {
   "base_numbering": 1,
   "nav_menu": {},
   "number_sections": true,
   "sideBar": true,
   "skip_h1_title": false,
   "title_cell": "Table of Contents",
   "title_sidebar": "Contents",
   "toc_cell": false,
   "toc_position": {},
   "toc_section_display": true,
   "toc_window_display": false
  },
  "varInspector": {
   "cols": {
    "lenName": 16,
    "lenType": 16,
    "lenVar": 40
   },
   "kernels_config": {
    "python": {
     "delete_cmd_postfix": "",
     "delete_cmd_prefix": "del ",
     "library": "var_list.py",
     "varRefreshCmd": "print(var_dic_list())"
    },
    "r": {
     "delete_cmd_postfix": ") ",
     "delete_cmd_prefix": "rm(",
     "library": "var_list.r",
     "varRefreshCmd": "cat(var_dic_list()) "
    }
   },
   "types_to_exclude": [
    "module",
    "function",
    "builtin_function_or_method",
    "instance",
    "_Feature"
   ],
   "window_display": false
  }
 },
 "nbformat": 4,
 "nbformat_minor": 2
}
